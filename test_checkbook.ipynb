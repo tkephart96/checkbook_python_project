{
 "cells": [
  {
   "attachments": {},
   "cell_type": "markdown",
   "metadata": {},
   "source": [
    "# Checkbook in the Command Line"
   ]
  },
  {
   "attachments": {},
   "cell_type": "markdown",
   "metadata": {},
   "source": [
    "- build a `.py` file in the end\n",
    "- app should welcome the user and prompt action:\n",
    "    - view current balance\n",
    "    - add a debit (withdrawal)\n",
    "    - add a credit (deposit)\n",
    "    - exit\n",
    "- app should notify user if input invalid\n",
    "    - not within range of above options\n",
    "    - not a number for deposit/credit\n",
    "- app should persist between runs\n",
    "    - adding of debit/credit should stay after close\n",
    "        - create `.txt` if not exists\n",
    "        - write to `.txt`\n",
    "- utilize functions to call balance, debit, credit, and exit\n",
    "    - importing functions"
   ]
  },
  {
   "attachments": {},
   "cell_type": "markdown",
   "metadata": {},
   "source": [
    "Assessment:\n",
    "- app opens and user can interface with 4 primary options\n",
    "    - transactions write to a file to record balance\n",
    "- app exits with ui and debit/credit saved\n",
    "    - user prompted between option choices until exit\n",
    "- credit option can be selected and a balance added correctly\n",
    "    - account updated per credit\n",
    "- debit option can be selected and a balance subtracted correctly\n",
    "    - account updated per debit\n",
    "- balance view option can be selected and shows correct balance\n",
    "    - updated dynamically from file\n",
    "- menu of 4 basic options pop back up between choices\n",
    "- 4 primary menu options are linked to functions\n",
    "- app will open and successfully run from command line"
   ]
  },
  {
   "attachments": {},
   "cell_type": "markdown",
   "metadata": {},
   "source": [
    "`$ python checkbook.py`\n",
    "\n",
    "`~~~` Welcome to your terminal checkbook! `~~~`\n",
    "\n",
    "What would you like to do?\n",
    "\n",
    "1) view current balance\n",
    "2) record a debit (withdraw)\n",
    "3) record a credit (deposit)\n",
    "4) exit\n",
    "\n",
    "Your choice? #"
   ]
  },
  {
   "attachments": {},
   "cell_type": "markdown",
   "metadata": {},
   "source": [
    "Your choice? 1\n",
    "\n",
    "Your current balance is $100.00.\n",
    "\n",
    "What would you like to do?\n",
    "\n",
    "1) view current balance\n",
    "2) record a debit (withdraw)\n",
    "3) record a credit (deposit)\n",
    "4) exit\n",
    "\n",
    "Your choice? #"
   ]
  },
  {
   "attachments": {},
   "cell_type": "markdown",
   "metadata": {},
   "source": [
    "Your choice? 2\n",
    "\n",
    "How much is the debit? $50.00\n",
    "\n",
    "What would you like to do?\n",
    "\n",
    "1) view current balance\n",
    "2) record a debit (withdraw)\n",
    "3) record a credit (deposit)\n",
    "4) exit\n",
    "\n",
    "Your choice? #"
   ]
  },
  {
   "attachments": {},
   "cell_type": "markdown",
   "metadata": {},
   "source": [
    "Your choice? 1\n",
    "\n",
    "Your current balance is $50.00.\n",
    "\n",
    "What would you like to do?\n",
    "\n",
    "1) view current balance\n",
    "2) record a debit (withdraw)\n",
    "3) record a credit (deposit)\n",
    "4) exit\n",
    "\n",
    "Your choice? #"
   ]
  },
  {
   "attachments": {},
   "cell_type": "markdown",
   "metadata": {},
   "source": [
    "Your choice? 4\n",
    "\n",
    "Thank you, have a nice day!"
   ]
  },
  {
   "attachments": {},
   "cell_type": "markdown",
   "metadata": {},
   "source": [
    "## Test code:"
   ]
  },
  {
   "attachments": {},
   "cell_type": "markdown",
   "metadata": {},
   "source": [
    "### Beginning"
   ]
  },
  {
   "cell_type": "code",
   "execution_count": null,
   "metadata": {},
   "outputs": [],
   "source": [
    "# imports\n",
    "import os\n",
    "import subprocess"
   ]
  },
  {
   "cell_type": "code",
   "execution_count": null,
   "metadata": {},
   "outputs": [],
   "source": [
    "# welcome the user\n",
    "greeting = '~~~ Welcome to your terminal checkbook! ~~~'\n",
    "print(greeting)"
   ]
  },
  {
   "cell_type": "code",
   "execution_count": null,
   "metadata": {},
   "outputs": [],
   "source": [
    "# options for user\n",
    "op0 = 'What would you like to do?'\n",
    "op1 = '1) view current balance'\n",
    "op2 = '2) record a debit (withdraw)'\n",
    "op3 = '3) record a credit (deposit)'\n",
    "op4 = '4) exit'\n",
    "options = [op0, '', op1, op2, op3, op4, '']"
   ]
  },
  {
   "cell_type": "code",
   "execution_count": null,
   "metadata": {},
   "outputs": [],
   "source": [
    "for op in options:\n",
    "    print(op)"
   ]
  },
  {
   "cell_type": "code",
   "execution_count": null,
   "metadata": {},
   "outputs": [],
   "source": [
    "# ask user input\n",
    "choice = input('Your choice?')"
   ]
  },
  {
   "cell_type": "code",
   "execution_count": null,
   "metadata": {},
   "outputs": [],
   "source": [
    "# verify valid user input\n",
    "while True:\n",
    "    choice = input('Your choice?')\n",
    "    if choice.isdigit():\n",
    "        choice = int(choice)\n",
    "        if choice > 4:\n",
    "            print('Invalid choice! Please choose a valid option.')\n",
    "            continue\n",
    "    else:\n",
    "        print('Invalid choice! Please choose a valid option.')\n",
    "        continue\n",
    "    print(choice)\n",
    "    break"
   ]
  },
  {
   "attachments": {},
   "cell_type": "markdown",
   "metadata": {},
   "source": [
    "#### Option 1 View current balance"
   ]
  },
  {
   "cell_type": "code",
   "execution_count": null,
   "metadata": {},
   "outputs": [],
   "source": [
    "# option 1 - view current balance\n",
    "filename = 'test_balance.txt'\n"
   ]
  },
  {
   "cell_type": "code",
   "execution_count": null,
   "metadata": {},
   "outputs": [],
   "source": [
    "if os.path.exists(filename):\n",
    "    print('file exists, read from location')\n",
    "    with open(filename, 'r') as f:\n",
    "        data = f.readlines()\n",
    "else:\n",
    "    print('file doesnt exist, creating now')\n",
    "    with open(filename, 'w') as f:\n",
    "        f.write('100.00')"
   ]
  },
  {
   "cell_type": "code",
   "execution_count": null,
   "metadata": {},
   "outputs": [],
   "source": [
    "os.listdir()"
   ]
  },
  {
   "cell_type": "code",
   "execution_count": null,
   "metadata": {},
   "outputs": [],
   "source": [
    "with open('test_balance.txt') as f:\n",
    "    data = f.read()"
   ]
  },
  {
   "cell_type": "code",
   "execution_count": null,
   "metadata": {},
   "outputs": [],
   "source": [
    "with open('test_balance.txt') as f:\n",
    "    data = f.readlines()"
   ]
  },
  {
   "cell_type": "code",
   "execution_count": null,
   "metadata": {},
   "outputs": [],
   "source": [
    "def view_balance(file=filename):\n",
    "    with open(file) as f:\n",
    "        data = f.read()\n",
    "        return float(data)"
   ]
  },
  {
   "cell_type": "code",
   "execution_count": null,
   "metadata": {},
   "outputs": [],
   "source": [
    "data # for .read\n",
    "# data[0] # for .readlines"
   ]
  },
  {
   "cell_type": "code",
   "execution_count": null,
   "metadata": {},
   "outputs": [],
   "source": [
    "print(f'Your current balance is ${view_balance()}')"
   ]
  },
  {
   "attachments": {},
   "cell_type": "markdown",
   "metadata": {},
   "source": [
    "#### Option 2 Record a debit (withdraw)"
   ]
  },
  {
   "cell_type": "code",
   "execution_count": null,
   "metadata": {},
   "outputs": [],
   "source": [
    "# option 2 - record a debit (withdraw)\n",
    "# read current balance\n",
    "# turn to float\n",
    "# turn input to float\n",
    "# subtract\n",
    "# turn to str and write over\n",
    "with open('test_balance.txt', 'w') as f:\n",
    "    f.write('500.00')"
   ]
  },
  {
   "cell_type": "code",
   "execution_count": null,
   "metadata": {},
   "outputs": [],
   "source": [
    "print(view_balance())\n",
    "type(view_balance())"
   ]
  },
  {
   "cell_type": "code",
   "execution_count": null,
   "metadata": {},
   "outputs": [],
   "source": [
    "# validate amount input\n",
    "while True:\n",
    "    amount = input('How much is the amount? $')\n",
    "    # print(amount, 'input')\n",
    "    try:\n",
    "        if len(amount.split('.')[-1]) > 2:\n",
    "            print('Invalid amount! Please enter an amount.')\n",
    "            continue\n",
    "        # print(len(amount.split('.')[-1]), 'length of dec')\n",
    "        amount = float(amount)\n",
    "        # print(amount, 'floated')\n",
    "        if amount < 0.01:\n",
    "            print('Invalid amount! Please enter an amount.')\n",
    "            continue\n",
    "    except ValueError:\n",
    "        print('Invalid amount! Please enter an amount.')\n",
    "        continue\n",
    "    # print(amount)\n",
    "    break\n"
   ]
  },
  {
   "cell_type": "code",
   "execution_count": null,
   "metadata": {},
   "outputs": [],
   "source": [
    "def debit():\n",
    "    while True:\n",
    "        amount = input('How much is the debit? $')\n",
    "        # print(amount, 'input')\n",
    "        try:\n",
    "            if len(amount.split('.')[-1]) > 2:\n",
    "                print('Invalid amount! Please enter an amount.')\n",
    "                continue\n",
    "            # print(len(amount.split('.')[-1]), 'length of dec')\n",
    "            amount = float(amount)\n",
    "            # print(amount, 'floated')\n",
    "            if amount < 0.01:\n",
    "                print('Invalid amount! Please enter an amount.')\n",
    "                continue\n",
    "        except ValueError:\n",
    "            print('Invalid amount! Please enter an amount.')\n",
    "            continue\n",
    "        # print(amount)\n",
    "        withdraw = float(view_balance()) - amount\n",
    "        with open('test_balance.txt', 'w') as f:\n",
    "            f.write(str(withdraw))\n",
    "        break\n"
   ]
  },
  {
   "cell_type": "code",
   "execution_count": null,
   "metadata": {},
   "outputs": [],
   "source": [
    "withdraw = float(view_balance()) - amount\n",
    "print(withdraw)"
   ]
  },
  {
   "cell_type": "code",
   "execution_count": null,
   "metadata": {},
   "outputs": [],
   "source": [
    "with open('test_balance.txt', 'w') as f:\n",
    "    f.write(str(withdraw))\n",
    "view_balance()"
   ]
  },
  {
   "attachments": {},
   "cell_type": "markdown",
   "metadata": {},
   "source": [
    "#### Option 3 Record a credit (deposit)"
   ]
  },
  {
   "cell_type": "code",
   "execution_count": null,
   "metadata": {},
   "outputs": [],
   "source": [
    "# option 3 - record a credit (deposit)\n",
    "# read current balance\n",
    "# turn to float\n",
    "# turn input to float\n",
    "# add\n",
    "# turn to str and write over\n",
    "with open('test_balance.txt', 'w') as f:\n",
    "    f.write('500.00')"
   ]
  },
  {
   "cell_type": "code",
   "execution_count": null,
   "metadata": {},
   "outputs": [],
   "source": [
    "view_balance()"
   ]
  },
  {
   "cell_type": "code",
   "execution_count": null,
   "metadata": {},
   "outputs": [],
   "source": [
    "# validate amount input\n",
    "while True:\n",
    "    amount = input('How much is the amount? $')\n",
    "    # print(amount, 'input')\n",
    "    try:\n",
    "        if len(amount.split('.')[-1]) > 2:\n",
    "            print('Invalid amount! Please enter an amount.')\n",
    "            continue\n",
    "        # print(len(amount.split('.')[-1]), 'length of dec')\n",
    "        amount = float(amount)\n",
    "        # print(amount, 'floated')\n",
    "        if amount < 0.01:\n",
    "            print('Invalid amount! Please enter an amount.')\n",
    "            continue\n",
    "    except ValueError:\n",
    "        print('Invalid amount! Please enter an amount.')\n",
    "        continue\n",
    "    # print(amount)\n",
    "    break\n"
   ]
  },
  {
   "cell_type": "code",
   "execution_count": null,
   "metadata": {},
   "outputs": [],
   "source": [
    "def credit():\n",
    "    while True:\n",
    "        amount = input('How much is the credit? $')\n",
    "        # print(amount, 'input')\n",
    "        try:\n",
    "            if len(amount.split('.')[-1]) > 2:\n",
    "                print('Invalid amount! Please enter an amount.')\n",
    "                continue\n",
    "            # print(len(amount.split('.')[-1]), 'length of dec')\n",
    "            amount = float(amount)\n",
    "            # print(amount, 'floated')\n",
    "            if amount < 0.01:\n",
    "                print('Invalid amount! Please enter an amount.')\n",
    "                continue\n",
    "        except ValueError:\n",
    "            print('Invalid amount! Please enter an amount.')\n",
    "            continue\n",
    "        # print(amount)\n",
    "        deposit = float(view_balance()) + amount\n",
    "        with open('test_balance.txt', 'w') as f:\n",
    "            f.write(str(deposit))\n",
    "        break\n"
   ]
  },
  {
   "cell_type": "code",
   "execution_count": null,
   "metadata": {},
   "outputs": [],
   "source": [
    "deposit = float(view_balance()) + amount\n",
    "print(deposit)"
   ]
  },
  {
   "cell_type": "code",
   "execution_count": null,
   "metadata": {},
   "outputs": [],
   "source": [
    "with open('test_balance.txt', 'w') as f:\n",
    "    f.write(str(deposit))\n",
    "view_balance()"
   ]
  },
  {
   "attachments": {},
   "cell_type": "markdown",
   "metadata": {},
   "source": [
    "#### Option 4 Exit"
   ]
  },
  {
   "cell_type": "code",
   "execution_count": null,
   "metadata": {},
   "outputs": [],
   "source": [
    "# option 4 - exit\n"
   ]
  },
  {
   "cell_type": "code",
   "execution_count": null,
   "metadata": {},
   "outputs": [],
   "source": [
    "len(str(123.0).split('.')[-1])"
   ]
  },
  {
   "attachments": {},
   "cell_type": "markdown",
   "metadata": {},
   "source": [
    "#### Combining"
   ]
  },
  {
   "cell_type": "code",
   "execution_count": null,
   "metadata": {},
   "outputs": [],
   "source": [
    "# test checkbook script\n",
    "# imports\n",
    "import os\n",
    "import subprocess\n",
    "\n",
    "# variables\n",
    "# welcome the user\n",
    "greeting = '~~~ Welcome to your terminal checkbook! ~~~'\n",
    "# options\n",
    "op0 = 'What would you like to do?'\n",
    "op1 = '1) view current balance'\n",
    "op2 = '2) record a debit (withdraw)'\n",
    "op3 = '3) record a credit (deposit)'\n",
    "op4 = '4) exit'\n",
    "options = ['', op0, '', op1, op2, op3, op4, '']\n",
    "# name of balance file\n",
    "filename = 'test_balance.txt'\n",
    "# app online\n",
    "online = True\n",
    "\n",
    "# functions\n",
    "def balance():\n",
    "    if os.path.exists(filename) == False:\n",
    "        with open(filename, 'w') as f:\n",
    "            f.write('0.00')\n",
    "\n",
    "def view_balance(file=filename):\n",
    "    with open(file) as f:\n",
    "        data = f.read()\n",
    "        return data\n",
    "\n",
    "def debit():\n",
    "    while True:\n",
    "        amount = input('\\nHow much is the debit? $')\n",
    "        try:\n",
    "            amount = float(amount)\n",
    "            if len(str(amount).split('.')[-1]) > 2:\n",
    "                print('Invalid amount! Please enter an amount.')\n",
    "                continue\n",
    "            if amount < 0.01:\n",
    "                print('Invalid amount! Please enter an amount.')\n",
    "                continue\n",
    "        except ValueError:\n",
    "            print('Invalid amount! Please enter an amount.')\n",
    "            continue\n",
    "        break\n",
    "    withdraw = float(view_balance()) - amount\n",
    "    if len(str(withdraw).split('.')[-1]) < 2:\n",
    "        zero = 2 - len(str(withdraw).split('.')[-1])\n",
    "        withdraw = str(withdraw) + ('0' * zero)\n",
    "    with open(filename, 'w') as f:\n",
    "        f.write(str(withdraw))\n",
    "    return\n",
    "\n",
    "def credit():\n",
    "    while True:\n",
    "        amount = input('\\nHow much is the credit? $')\n",
    "        try:\n",
    "            amount = float(amount)\n",
    "            if len(str(amount).split('.')[-1]) > 2:\n",
    "                print('Invalid amount! Please enter an amount.')\n",
    "                continue\n",
    "            if amount < 0.01:\n",
    "                print('Invalid amount! Please enter an amount.')\n",
    "                continue\n",
    "        except ValueError:\n",
    "            print('Invalid amount! Please enter an amount.')\n",
    "            continue\n",
    "        break\n",
    "    deposit = float(view_balance()) + amount\n",
    "    if len(str(deposit).split('.')[-1]) < 2:\n",
    "        zero = 2 - len(str(deposit).split('.')[-1])\n",
    "        deposit = str(deposit) + ('0' * zero)\n",
    "    with open(filename, 'w') as f:\n",
    "        f.write(str(deposit))\n",
    "    return\n",
    "\n",
    "def goodbye():\n",
    "    print('\\nGoodbye! Have a nice day.\\n')\n",
    "    online = False\n",
    "    return\n",
    "\n",
    "# main code\n",
    "print('\\n', greeting)\n",
    "while online == True:\n",
    "    balance()\n",
    "    for op in options:\n",
    "        print(op)\n",
    "    choice = input('Your choice? ')\n",
    "    if choice.isdigit():\n",
    "        choice = int(choice)\n",
    "        if choice > 4:\n",
    "            print('Invalid choice! Please choose a valid option.')\n",
    "            continue\n",
    "        if choice == 1:\n",
    "            print(f'\\nYour current balance is ${view_balance()}')\n",
    "            continue\n",
    "        if choice == 2:\n",
    "            debit()\n",
    "            continue\n",
    "        if choice == 3:\n",
    "            credit()\n",
    "            continue\n",
    "        if choice == 4:\n",
    "            goodbye()\n",
    "    else:\n",
    "        print('Invalid choice! Please choose a valid option.')\n",
    "        continue\n",
    "    break"
   ]
  },
  {
   "attachments": {},
   "cell_type": "markdown",
   "metadata": {},
   "source": [
    "## Bonus"
   ]
  },
  {
   "cell_type": "markdown",
   "metadata": {},
   "source": [
    "Bonus features:\n",
    "- add menu item for viewing historical transactions\n",
    "- assign categories to each transaction\n",
    "    - add menu item for viewing category transactions\n",
    "    - provide user summary stats of each category\n",
    "- keep track of date and time for each transaction\n",
    "    - view all transactions for a given day\n",
    "    - hint: transactions should include timestamp for each\n",
    "- optionally provide description for each transaction\n",
    "    - search keywords in description and show all that match\n",
    "- allow modifications of past transactions"
   ]
  },
  {
   "cell_type": "code",
   "execution_count": null,
   "metadata": {},
   "outputs": [],
   "source": []
  }
 ],
 "metadata": {
  "kernelspec": {
   "display_name": "base",
   "language": "python",
   "name": "python3"
  },
  "language_info": {
   "codemirror_mode": {
    "name": "ipython",
    "version": 3
   },
   "file_extension": ".py",
   "mimetype": "text/x-python",
   "name": "python",
   "nbconvert_exporter": "python",
   "pygments_lexer": "ipython3",
   "version": "3.9.13"
  },
  "orig_nbformat": 4
 },
 "nbformat": 4,
 "nbformat_minor": 2
}
